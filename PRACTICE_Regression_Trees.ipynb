{
  "nbformat": 4,
  "nbformat_minor": 0,
  "metadata": {
    "colab": {
      "name": "PRACTICE Regression Trees.ipynb",
      "provenance": [],
      "collapsed_sections": [],
      "mount_file_id": "1wq3PKoDrPVsMW9BcOP5G2MqXVT0ztL7-",
      "authorship_tag": "ABX9TyNRRkVoFs1+n5blKVDIRVjV",
      "include_colab_link": true
    },
    "kernelspec": {
      "name": "python3",
      "display_name": "Python 3"
    },
    "language_info": {
      "name": "python"
    }
  },
  "cells": [
    {
      "cell_type": "markdown",
      "metadata": {
        "id": "view-in-github",
        "colab_type": "text"
      },
      "source": [
        "<a href=\"https://colab.research.google.com/github/jul1andav1d/Practice-and-Exercises/blob/main/PRACTICE_Regression_Trees.ipynb\" target=\"_parent\"><img src=\"https://colab.research.google.com/assets/colab-badge.svg\" alt=\"Open In Colab\"/></a>"
      ]
    },
    {
      "cell_type": "markdown",
      "source": [
        "#Regression Tree Exercise (Practice)\n",
        "For this task, you will USE the Boston Housing Data set that you  used in a previous exercise with linear regression.\n"
      ],
      "metadata": {
        "id": "lKGAsB4DsGkR"
      }
    },
    {
      "cell_type": "code",
      "source": [
        "import pandas as pd"
      ],
      "metadata": {
        "id": "E5ybFINWpivX"
      },
      "execution_count": 34,
      "outputs": []
    },
    {
      "cell_type": "code",
      "execution_count": 35,
      "metadata": {
        "colab": {
          "base_uri": "https://localhost:8080/",
          "height": 206
        },
        "id": "K2-T4nWapM6o",
        "outputId": "b541ddb0-425e-4f0d-e491-19eb834949f9"
      },
      "outputs": [
        {
          "output_type": "execute_result",
          "data": {
            "text/html": [
              "\n",
              "  <div id=\"df-fbc74de0-6708-48e7-a299-c18e3c7c9831\">\n",
              "    <div class=\"colab-df-container\">\n",
              "      <div>\n",
              "<style scoped>\n",
              "    .dataframe tbody tr th:only-of-type {\n",
              "        vertical-align: middle;\n",
              "    }\n",
              "\n",
              "    .dataframe tbody tr th {\n",
              "        vertical-align: top;\n",
              "    }\n",
              "\n",
              "    .dataframe thead th {\n",
              "        text-align: right;\n",
              "    }\n",
              "</style>\n",
              "<table border=\"1\" class=\"dataframe\">\n",
              "  <thead>\n",
              "    <tr style=\"text-align: right;\">\n",
              "      <th></th>\n",
              "      <th>CRIM</th>\n",
              "      <th>NOX</th>\n",
              "      <th>RM</th>\n",
              "      <th>AGE</th>\n",
              "      <th>PTRATIO</th>\n",
              "      <th>LSTAT</th>\n",
              "      <th>PRICE</th>\n",
              "    </tr>\n",
              "  </thead>\n",
              "  <tbody>\n",
              "    <tr>\n",
              "      <th>0</th>\n",
              "      <td>0.00632</td>\n",
              "      <td>0.538</td>\n",
              "      <td>6.575</td>\n",
              "      <td>65.2</td>\n",
              "      <td>15.3</td>\n",
              "      <td>4.98</td>\n",
              "      <td>24.0</td>\n",
              "    </tr>\n",
              "    <tr>\n",
              "      <th>1</th>\n",
              "      <td>0.02731</td>\n",
              "      <td>0.469</td>\n",
              "      <td>6.421</td>\n",
              "      <td>78.9</td>\n",
              "      <td>17.8</td>\n",
              "      <td>9.14</td>\n",
              "      <td>21.6</td>\n",
              "    </tr>\n",
              "    <tr>\n",
              "      <th>2</th>\n",
              "      <td>0.02729</td>\n",
              "      <td>0.469</td>\n",
              "      <td>7.185</td>\n",
              "      <td>61.1</td>\n",
              "      <td>17.8</td>\n",
              "      <td>4.03</td>\n",
              "      <td>34.7</td>\n",
              "    </tr>\n",
              "    <tr>\n",
              "      <th>3</th>\n",
              "      <td>0.03237</td>\n",
              "      <td>0.458</td>\n",
              "      <td>6.998</td>\n",
              "      <td>45.8</td>\n",
              "      <td>18.7</td>\n",
              "      <td>2.94</td>\n",
              "      <td>33.4</td>\n",
              "    </tr>\n",
              "    <tr>\n",
              "      <th>4</th>\n",
              "      <td>0.06905</td>\n",
              "      <td>0.458</td>\n",
              "      <td>7.147</td>\n",
              "      <td>54.2</td>\n",
              "      <td>18.7</td>\n",
              "      <td>5.33</td>\n",
              "      <td>36.2</td>\n",
              "    </tr>\n",
              "  </tbody>\n",
              "</table>\n",
              "</div>\n",
              "      <button class=\"colab-df-convert\" onclick=\"convertToInteractive('df-fbc74de0-6708-48e7-a299-c18e3c7c9831')\"\n",
              "              title=\"Convert this dataframe to an interactive table.\"\n",
              "              style=\"display:none;\">\n",
              "        \n",
              "  <svg xmlns=\"http://www.w3.org/2000/svg\" height=\"24px\"viewBox=\"0 0 24 24\"\n",
              "       width=\"24px\">\n",
              "    <path d=\"M0 0h24v24H0V0z\" fill=\"none\"/>\n",
              "    <path d=\"M18.56 5.44l.94 2.06.94-2.06 2.06-.94-2.06-.94-.94-2.06-.94 2.06-2.06.94zm-11 1L8.5 8.5l.94-2.06 2.06-.94-2.06-.94L8.5 2.5l-.94 2.06-2.06.94zm10 10l.94 2.06.94-2.06 2.06-.94-2.06-.94-.94-2.06-.94 2.06-2.06.94z\"/><path d=\"M17.41 7.96l-1.37-1.37c-.4-.4-.92-.59-1.43-.59-.52 0-1.04.2-1.43.59L10.3 9.45l-7.72 7.72c-.78.78-.78 2.05 0 2.83L4 21.41c.39.39.9.59 1.41.59.51 0 1.02-.2 1.41-.59l7.78-7.78 2.81-2.81c.8-.78.8-2.07 0-2.86zM5.41 20L4 18.59l7.72-7.72 1.47 1.35L5.41 20z\"/>\n",
              "  </svg>\n",
              "      </button>\n",
              "      \n",
              "  <style>\n",
              "    .colab-df-container {\n",
              "      display:flex;\n",
              "      flex-wrap:wrap;\n",
              "      gap: 12px;\n",
              "    }\n",
              "\n",
              "    .colab-df-convert {\n",
              "      background-color: #E8F0FE;\n",
              "      border: none;\n",
              "      border-radius: 50%;\n",
              "      cursor: pointer;\n",
              "      display: none;\n",
              "      fill: #1967D2;\n",
              "      height: 32px;\n",
              "      padding: 0 0 0 0;\n",
              "      width: 32px;\n",
              "    }\n",
              "\n",
              "    .colab-df-convert:hover {\n",
              "      background-color: #E2EBFA;\n",
              "      box-shadow: 0px 1px 2px rgba(60, 64, 67, 0.3), 0px 1px 3px 1px rgba(60, 64, 67, 0.15);\n",
              "      fill: #174EA6;\n",
              "    }\n",
              "\n",
              "    [theme=dark] .colab-df-convert {\n",
              "      background-color: #3B4455;\n",
              "      fill: #D2E3FC;\n",
              "    }\n",
              "\n",
              "    [theme=dark] .colab-df-convert:hover {\n",
              "      background-color: #434B5C;\n",
              "      box-shadow: 0px 1px 3px 1px rgba(0, 0, 0, 0.15);\n",
              "      filter: drop-shadow(0px 1px 2px rgba(0, 0, 0, 0.3));\n",
              "      fill: #FFFFFF;\n",
              "    }\n",
              "  </style>\n",
              "\n",
              "      <script>\n",
              "        const buttonEl =\n",
              "          document.querySelector('#df-fbc74de0-6708-48e7-a299-c18e3c7c9831 button.colab-df-convert');\n",
              "        buttonEl.style.display =\n",
              "          google.colab.kernel.accessAllowed ? 'block' : 'none';\n",
              "\n",
              "        async function convertToInteractive(key) {\n",
              "          const element = document.querySelector('#df-fbc74de0-6708-48e7-a299-c18e3c7c9831');\n",
              "          const dataTable =\n",
              "            await google.colab.kernel.invokeFunction('convertToInteractive',\n",
              "                                                     [key], {});\n",
              "          if (!dataTable) return;\n",
              "\n",
              "          const docLinkHtml = 'Like what you see? Visit the ' +\n",
              "            '<a target=\"_blank\" href=https://colab.research.google.com/notebooks/data_table.ipynb>data table notebook</a>'\n",
              "            + ' to learn more about interactive tables.';\n",
              "          element.innerHTML = '';\n",
              "          dataTable['output_type'] = 'display_data';\n",
              "          await google.colab.output.renderOutput(dataTable, element);\n",
              "          const docLink = document.createElement('div');\n",
              "          docLink.innerHTML = docLinkHtml;\n",
              "          element.appendChild(docLink);\n",
              "        }\n",
              "      </script>\n",
              "    </div>\n",
              "  </div>\n",
              "  "
            ],
            "text/plain": [
              "      CRIM    NOX     RM   AGE  PTRATIO  LSTAT  PRICE\n",
              "0  0.00632  0.538  6.575  65.2     15.3   4.98   24.0\n",
              "1  0.02731  0.469  6.421  78.9     17.8   9.14   21.6\n",
              "2  0.02729  0.469  7.185  61.1     17.8   4.03   34.7\n",
              "3  0.03237  0.458  6.998  45.8     18.7   2.94   33.4\n",
              "4  0.06905  0.458  7.147  54.2     18.7   5.33   36.2"
            ]
          },
          "metadata": {},
          "execution_count": 35
        }
      ],
      "source": [
        "path = '/content/drive/MyDrive/Colab Notebooks/DataSci Week 6 Regression Models/Boston_Housing_from_Sklearn.csv'\n",
        "df = pd.read_csv(path)\n",
        "df.head()"
      ]
    },
    {
      "cell_type": "code",
      "source": [
        "df.dtypes"
      ],
      "metadata": {
        "colab": {
          "base_uri": "https://localhost:8080/"
        },
        "id": "7dJVx-NZvvI7",
        "outputId": "8dc4ad50-9cef-4e72-9ba8-26be527603a6"
      },
      "execution_count": 36,
      "outputs": [
        {
          "output_type": "execute_result",
          "data": {
            "text/plain": [
              "CRIM       float64\n",
              "NOX        float64\n",
              "RM         float64\n",
              "AGE        float64\n",
              "PTRATIO    float64\n",
              "LSTAT      float64\n",
              "PRICE      float64\n",
              "dtype: object"
            ]
          },
          "metadata": {},
          "execution_count": 36
        }
      ]
    },
    {
      "cell_type": "markdown",
      "source": [
        "1) Run a regression tree model with default parameters (unlimited depth)"
      ],
      "metadata": {
        "id": "6WqUbwzxsB1s"
      }
    },
    {
      "cell_type": "code",
      "source": [
        "import pandas as pd\n",
        "import numpy as np\n",
        "from sklearn.model_selection import train_test_split\n",
        "from sklearn.compose import make_column_selector, make_column_transformer\n",
        "from sklearn.linear_model import LinearRegression\n",
        "from sklearn.preprocessing import StandardScaler, OneHotEncoder\n",
        "from sklearn.pipeline import make_pipeline\n",
        "from sklearn import set_config\n",
        "set_config(display='diagram')\n",
        "from sklearn.metrics import r2_score\n",
        "from sklearn.impute import SimpleImputer\n",
        "from sklearn.tree import DecisionTreeRegressor"
      ],
      "metadata": {
        "id": "f5BRwTDPplFO"
      },
      "execution_count": 37,
      "outputs": []
    },
    {
      "cell_type": "code",
      "source": [
        "X = df.drop(columns= ['PRICE', 'CRIM','NOX', 'AGE'])\n",
        "y = df['PRICE']"
      ],
      "metadata": {
        "id": "iHdOYfxWsR8Q"
      },
      "execution_count": 38,
      "outputs": []
    },
    {
      "cell_type": "code",
      "source": [
        "X_train, X_test, y_train, y_test = train_test_split(X, y, random_state=42)"
      ],
      "metadata": {
        "id": "vEKsVuixXsal"
      },
      "execution_count": 39,
      "outputs": []
    },
    {
      "cell_type": "code",
      "source": [
        "dec_tree = DecisionTreeRegressor(random_state=42)"
      ],
      "metadata": {
        "id": "_LbFV28pXsRJ"
      },
      "execution_count": 40,
      "outputs": []
    },
    {
      "cell_type": "code",
      "source": [
        "dec_tree.fit(X_train, y_train)"
      ],
      "metadata": {
        "colab": {
          "base_uri": "https://localhost:8080/",
          "height": 76
        },
        "id": "yel2w6uwxj90",
        "outputId": "1091a0cc-57c3-4853-cbf3-0fad3adb54ae"
      },
      "execution_count": 41,
      "outputs": [
        {
          "output_type": "execute_result",
          "data": {
            "text/html": [
              "<style>#sk-6915303e-e722-49af-b092-4ba236ce4581 {color: black;background-color: white;}#sk-6915303e-e722-49af-b092-4ba236ce4581 pre{padding: 0;}#sk-6915303e-e722-49af-b092-4ba236ce4581 div.sk-toggleable {background-color: white;}#sk-6915303e-e722-49af-b092-4ba236ce4581 label.sk-toggleable__label {cursor: pointer;display: block;width: 100%;margin-bottom: 0;padding: 0.3em;box-sizing: border-box;text-align: center;}#sk-6915303e-e722-49af-b092-4ba236ce4581 label.sk-toggleable__label-arrow:before {content: \"▸\";float: left;margin-right: 0.25em;color: #696969;}#sk-6915303e-e722-49af-b092-4ba236ce4581 label.sk-toggleable__label-arrow:hover:before {color: black;}#sk-6915303e-e722-49af-b092-4ba236ce4581 div.sk-estimator:hover label.sk-toggleable__label-arrow:before {color: black;}#sk-6915303e-e722-49af-b092-4ba236ce4581 div.sk-toggleable__content {max-height: 0;max-width: 0;overflow: hidden;text-align: left;background-color: #f0f8ff;}#sk-6915303e-e722-49af-b092-4ba236ce4581 div.sk-toggleable__content pre {margin: 0.2em;color: black;border-radius: 0.25em;background-color: #f0f8ff;}#sk-6915303e-e722-49af-b092-4ba236ce4581 input.sk-toggleable__control:checked~div.sk-toggleable__content {max-height: 200px;max-width: 100%;overflow: auto;}#sk-6915303e-e722-49af-b092-4ba236ce4581 input.sk-toggleable__control:checked~label.sk-toggleable__label-arrow:before {content: \"▾\";}#sk-6915303e-e722-49af-b092-4ba236ce4581 div.sk-estimator input.sk-toggleable__control:checked~label.sk-toggleable__label {background-color: #d4ebff;}#sk-6915303e-e722-49af-b092-4ba236ce4581 div.sk-label input.sk-toggleable__control:checked~label.sk-toggleable__label {background-color: #d4ebff;}#sk-6915303e-e722-49af-b092-4ba236ce4581 input.sk-hidden--visually {border: 0;clip: rect(1px 1px 1px 1px);clip: rect(1px, 1px, 1px, 1px);height: 1px;margin: -1px;overflow: hidden;padding: 0;position: absolute;width: 1px;}#sk-6915303e-e722-49af-b092-4ba236ce4581 div.sk-estimator {font-family: monospace;background-color: #f0f8ff;border: 1px dotted black;border-radius: 0.25em;box-sizing: border-box;margin-bottom: 0.5em;}#sk-6915303e-e722-49af-b092-4ba236ce4581 div.sk-estimator:hover {background-color: #d4ebff;}#sk-6915303e-e722-49af-b092-4ba236ce4581 div.sk-parallel-item::after {content: \"\";width: 100%;border-bottom: 1px solid gray;flex-grow: 1;}#sk-6915303e-e722-49af-b092-4ba236ce4581 div.sk-label:hover label.sk-toggleable__label {background-color: #d4ebff;}#sk-6915303e-e722-49af-b092-4ba236ce4581 div.sk-serial::before {content: \"\";position: absolute;border-left: 1px solid gray;box-sizing: border-box;top: 2em;bottom: 0;left: 50%;}#sk-6915303e-e722-49af-b092-4ba236ce4581 div.sk-serial {display: flex;flex-direction: column;align-items: center;background-color: white;padding-right: 0.2em;padding-left: 0.2em;}#sk-6915303e-e722-49af-b092-4ba236ce4581 div.sk-item {z-index: 1;}#sk-6915303e-e722-49af-b092-4ba236ce4581 div.sk-parallel {display: flex;align-items: stretch;justify-content: center;background-color: white;}#sk-6915303e-e722-49af-b092-4ba236ce4581 div.sk-parallel::before {content: \"\";position: absolute;border-left: 1px solid gray;box-sizing: border-box;top: 2em;bottom: 0;left: 50%;}#sk-6915303e-e722-49af-b092-4ba236ce4581 div.sk-parallel-item {display: flex;flex-direction: column;position: relative;background-color: white;}#sk-6915303e-e722-49af-b092-4ba236ce4581 div.sk-parallel-item:first-child::after {align-self: flex-end;width: 50%;}#sk-6915303e-e722-49af-b092-4ba236ce4581 div.sk-parallel-item:last-child::after {align-self: flex-start;width: 50%;}#sk-6915303e-e722-49af-b092-4ba236ce4581 div.sk-parallel-item:only-child::after {width: 0;}#sk-6915303e-e722-49af-b092-4ba236ce4581 div.sk-dashed-wrapped {border: 1px dashed gray;margin: 0 0.4em 0.5em 0.4em;box-sizing: border-box;padding-bottom: 0.4em;background-color: white;position: relative;}#sk-6915303e-e722-49af-b092-4ba236ce4581 div.sk-label label {font-family: monospace;font-weight: bold;background-color: white;display: inline-block;line-height: 1.2em;}#sk-6915303e-e722-49af-b092-4ba236ce4581 div.sk-label-container {position: relative;z-index: 2;text-align: center;}#sk-6915303e-e722-49af-b092-4ba236ce4581 div.sk-container {/* jupyter's `normalize.less` sets `[hidden] { display: none; }` but bootstrap.min.css set `[hidden] { display: none !important; }` so we also need the `!important` here to be able to override the default hidden behavior on the sphinx rendered scikit-learn.org. See: https://github.com/scikit-learn/scikit-learn/issues/21755 */display: inline-block !important;position: relative;}#sk-6915303e-e722-49af-b092-4ba236ce4581 div.sk-text-repr-fallback {display: none;}</style><div id=\"sk-6915303e-e722-49af-b092-4ba236ce4581\" class=\"sk-top-container\"><div class=\"sk-text-repr-fallback\"><pre>DecisionTreeRegressor(random_state=42)</pre><b>Please rerun this cell to show the HTML repr or trust the notebook.</b></div><div class=\"sk-container\" hidden><div class=\"sk-item\"><div class=\"sk-estimator sk-toggleable\"><input class=\"sk-toggleable__control sk-hidden--visually\" id=\"f23aba6d-9846-4a93-b6d6-b79f1e257079\" type=\"checkbox\" checked><label for=\"f23aba6d-9846-4a93-b6d6-b79f1e257079\" class=\"sk-toggleable__label sk-toggleable__label-arrow\">DecisionTreeRegressor</label><div class=\"sk-toggleable__content\"><pre>DecisionTreeRegressor(random_state=42)</pre></div></div></div></div></div>"
            ],
            "text/plain": [
              "DecisionTreeRegressor(random_state=42)"
            ]
          },
          "metadata": {},
          "execution_count": 41
        }
      ]
    },
    {
      "cell_type": "code",
      "source": [
        "train_preds = dec_tree.predict(X_train)\n",
        "test_preds = dec_tree.predict(X_test)"
      ],
      "metadata": {
        "id": "Qe3ki1xOxuLw"
      },
      "execution_count": 42,
      "outputs": []
    },
    {
      "cell_type": "code",
      "source": [
        "train_score = dec_tree.score(X_train, y_train)\n",
        "test_score = dec_tree.score(X_test, y_test)"
      ],
      "metadata": {
        "id": "tNoCUoUixujg"
      },
      "execution_count": 43,
      "outputs": []
    },
    {
      "cell_type": "code",
      "source": [
        "train_score"
      ],
      "metadata": {
        "colab": {
          "base_uri": "https://localhost:8080/"
        },
        "id": "escU6iZayWgs",
        "outputId": "431ae8db-8539-4aa0-8b94-b979ecd2c44d"
      },
      "execution_count": 44,
      "outputs": [
        {
          "output_type": "execute_result",
          "data": {
            "text/plain": [
              "1.0"
            ]
          },
          "metadata": {},
          "execution_count": 44
        }
      ]
    },
    {
      "cell_type": "code",
      "source": [
        "test_score"
      ],
      "metadata": {
        "colab": {
          "base_uri": "https://localhost:8080/"
        },
        "id": "cKOvY9IqycXR",
        "outputId": "5229c202-c85c-41fd-fd8f-5cd5954610ba"
      },
      "execution_count": 45,
      "outputs": [
        {
          "output_type": "execute_result",
          "data": {
            "text/plain": [
              "0.4526070862755007"
            ]
          },
          "metadata": {},
          "execution_count": 45
        }
      ]
    },
    {
      "cell_type": "code",
      "source": [
        "dec_tree"
      ],
      "metadata": {
        "colab": {
          "base_uri": "https://localhost:8080/",
          "height": 76
        },
        "id": "1j8y8dqyyiDQ",
        "outputId": "8d410c83-2680-4b06-a559-09f4632227a4"
      },
      "execution_count": 46,
      "outputs": [
        {
          "output_type": "execute_result",
          "data": {
            "text/html": [
              "<style>#sk-e3ccb656-e875-49a0-a287-b0910110d24a {color: black;background-color: white;}#sk-e3ccb656-e875-49a0-a287-b0910110d24a pre{padding: 0;}#sk-e3ccb656-e875-49a0-a287-b0910110d24a div.sk-toggleable {background-color: white;}#sk-e3ccb656-e875-49a0-a287-b0910110d24a label.sk-toggleable__label {cursor: pointer;display: block;width: 100%;margin-bottom: 0;padding: 0.3em;box-sizing: border-box;text-align: center;}#sk-e3ccb656-e875-49a0-a287-b0910110d24a label.sk-toggleable__label-arrow:before {content: \"▸\";float: left;margin-right: 0.25em;color: #696969;}#sk-e3ccb656-e875-49a0-a287-b0910110d24a label.sk-toggleable__label-arrow:hover:before {color: black;}#sk-e3ccb656-e875-49a0-a287-b0910110d24a div.sk-estimator:hover label.sk-toggleable__label-arrow:before {color: black;}#sk-e3ccb656-e875-49a0-a287-b0910110d24a div.sk-toggleable__content {max-height: 0;max-width: 0;overflow: hidden;text-align: left;background-color: #f0f8ff;}#sk-e3ccb656-e875-49a0-a287-b0910110d24a div.sk-toggleable__content pre {margin: 0.2em;color: black;border-radius: 0.25em;background-color: #f0f8ff;}#sk-e3ccb656-e875-49a0-a287-b0910110d24a input.sk-toggleable__control:checked~div.sk-toggleable__content {max-height: 200px;max-width: 100%;overflow: auto;}#sk-e3ccb656-e875-49a0-a287-b0910110d24a input.sk-toggleable__control:checked~label.sk-toggleable__label-arrow:before {content: \"▾\";}#sk-e3ccb656-e875-49a0-a287-b0910110d24a div.sk-estimator input.sk-toggleable__control:checked~label.sk-toggleable__label {background-color: #d4ebff;}#sk-e3ccb656-e875-49a0-a287-b0910110d24a div.sk-label input.sk-toggleable__control:checked~label.sk-toggleable__label {background-color: #d4ebff;}#sk-e3ccb656-e875-49a0-a287-b0910110d24a input.sk-hidden--visually {border: 0;clip: rect(1px 1px 1px 1px);clip: rect(1px, 1px, 1px, 1px);height: 1px;margin: -1px;overflow: hidden;padding: 0;position: absolute;width: 1px;}#sk-e3ccb656-e875-49a0-a287-b0910110d24a div.sk-estimator {font-family: monospace;background-color: #f0f8ff;border: 1px dotted black;border-radius: 0.25em;box-sizing: border-box;margin-bottom: 0.5em;}#sk-e3ccb656-e875-49a0-a287-b0910110d24a div.sk-estimator:hover {background-color: #d4ebff;}#sk-e3ccb656-e875-49a0-a287-b0910110d24a div.sk-parallel-item::after {content: \"\";width: 100%;border-bottom: 1px solid gray;flex-grow: 1;}#sk-e3ccb656-e875-49a0-a287-b0910110d24a div.sk-label:hover label.sk-toggleable__label {background-color: #d4ebff;}#sk-e3ccb656-e875-49a0-a287-b0910110d24a div.sk-serial::before {content: \"\";position: absolute;border-left: 1px solid gray;box-sizing: border-box;top: 2em;bottom: 0;left: 50%;}#sk-e3ccb656-e875-49a0-a287-b0910110d24a div.sk-serial {display: flex;flex-direction: column;align-items: center;background-color: white;padding-right: 0.2em;padding-left: 0.2em;}#sk-e3ccb656-e875-49a0-a287-b0910110d24a div.sk-item {z-index: 1;}#sk-e3ccb656-e875-49a0-a287-b0910110d24a div.sk-parallel {display: flex;align-items: stretch;justify-content: center;background-color: white;}#sk-e3ccb656-e875-49a0-a287-b0910110d24a div.sk-parallel::before {content: \"\";position: absolute;border-left: 1px solid gray;box-sizing: border-box;top: 2em;bottom: 0;left: 50%;}#sk-e3ccb656-e875-49a0-a287-b0910110d24a div.sk-parallel-item {display: flex;flex-direction: column;position: relative;background-color: white;}#sk-e3ccb656-e875-49a0-a287-b0910110d24a div.sk-parallel-item:first-child::after {align-self: flex-end;width: 50%;}#sk-e3ccb656-e875-49a0-a287-b0910110d24a div.sk-parallel-item:last-child::after {align-self: flex-start;width: 50%;}#sk-e3ccb656-e875-49a0-a287-b0910110d24a div.sk-parallel-item:only-child::after {width: 0;}#sk-e3ccb656-e875-49a0-a287-b0910110d24a div.sk-dashed-wrapped {border: 1px dashed gray;margin: 0 0.4em 0.5em 0.4em;box-sizing: border-box;padding-bottom: 0.4em;background-color: white;position: relative;}#sk-e3ccb656-e875-49a0-a287-b0910110d24a div.sk-label label {font-family: monospace;font-weight: bold;background-color: white;display: inline-block;line-height: 1.2em;}#sk-e3ccb656-e875-49a0-a287-b0910110d24a div.sk-label-container {position: relative;z-index: 2;text-align: center;}#sk-e3ccb656-e875-49a0-a287-b0910110d24a div.sk-container {/* jupyter's `normalize.less` sets `[hidden] { display: none; }` but bootstrap.min.css set `[hidden] { display: none !important; }` so we also need the `!important` here to be able to override the default hidden behavior on the sphinx rendered scikit-learn.org. See: https://github.com/scikit-learn/scikit-learn/issues/21755 */display: inline-block !important;position: relative;}#sk-e3ccb656-e875-49a0-a287-b0910110d24a div.sk-text-repr-fallback {display: none;}</style><div id=\"sk-e3ccb656-e875-49a0-a287-b0910110d24a\" class=\"sk-top-container\"><div class=\"sk-text-repr-fallback\"><pre>DecisionTreeRegressor(random_state=42)</pre><b>Please rerun this cell to show the HTML repr or trust the notebook.</b></div><div class=\"sk-container\" hidden><div class=\"sk-item\"><div class=\"sk-estimator sk-toggleable\"><input class=\"sk-toggleable__control sk-hidden--visually\" id=\"882236f2-0135-44e4-b22a-c939783c201a\" type=\"checkbox\" checked><label for=\"882236f2-0135-44e4-b22a-c939783c201a\" class=\"sk-toggleable__label sk-toggleable__label-arrow\">DecisionTreeRegressor</label><div class=\"sk-toggleable__content\"><pre>DecisionTreeRegressor(random_state=42)</pre></div></div></div></div></div>"
            ],
            "text/plain": [
              "DecisionTreeRegressor(random_state=42)"
            ]
          },
          "metadata": {},
          "execution_count": 46
        }
      ]
    },
    {
      "cell_type": "markdown",
      "source": [
        "2) Determine the depth of the default tree."
      ],
      "metadata": {
        "id": "nx_vu5G3sk_r"
      }
    },
    {
      "cell_type": "code",
      "source": [
        "dec_tree.get_depth()"
      ],
      "metadata": {
        "id": "95LhvJJishXP",
        "colab": {
          "base_uri": "https://localhost:8080/"
        },
        "outputId": "d8d6f4b1-dc4c-48ed-931e-97ca39a96308"
      },
      "execution_count": 47,
      "outputs": [
        {
          "output_type": "execute_result",
          "data": {
            "text/plain": [
              "20"
            ]
          },
          "metadata": {},
          "execution_count": 47
        }
      ]
    },
    {
      "cell_type": "code",
      "source": [
        "dec_tree.get_n_leaves()"
      ],
      "metadata": {
        "colab": {
          "base_uri": "https://localhost:8080/"
        },
        "id": "Txw8GXG-yoZo",
        "outputId": "50437da5-23df-45da-e99f-58f402fca882"
      },
      "execution_count": 48,
      "outputs": [
        {
          "output_type": "execute_result",
          "data": {
            "text/plain": [
              "368"
            ]
          },
          "metadata": {},
          "execution_count": 48
        }
      ]
    },
    {
      "cell_type": "markdown",
      "source": [
        "3) Try different values for max_depth and determine the optimal value based on the best (highest) r2 value. What is the optimal max_depth based on your trials?"
      ],
      "metadata": {
        "id": "8dqjadvWslz1"
      }
    },
    {
      "cell_type": "code",
      "source": [
        "dec_tree_1 = DecisionTreeRegressor(max_depth= 3, random_state=42)\n",
        "dec_tree_1.fit(X_train, y_train)\n",
        "train_1_score = dec_tree_1.score(X_train, y_train)\n",
        "test_1_score = dec_tree_1.score(X_test, y_test)\n",
        "print(train_1_score)\n",
        "print(test_1_score)"
      ],
      "metadata": {
        "colab": {
          "base_uri": "https://localhost:8080/"
        },
        "id": "NONf90z3ynHQ",
        "outputId": "6a2e7386-6cbb-4aa6-ad2d-cd06f451fc6c"
      },
      "execution_count": 49,
      "outputs": [
        {
          "output_type": "stream",
          "name": "stdout",
          "text": [
            "0.8076973145850337\n",
            "0.6410142167887275\n"
          ]
        }
      ]
    },
    {
      "cell_type": "code",
      "source": [
        "dec_tree_2 = DecisionTreeRegressor(max_depth= 5, random_state=42)\n",
        "dec_tree_2.fit(X_train, y_train)\n",
        "train_2_score = dec_tree_2.score(X_train, y_train)\n",
        "test_2_score = dec_tree_2.score(X_test, y_test)\n",
        "print(train_2_score)\n",
        "print(test_2_score)"
      ],
      "metadata": {
        "colab": {
          "base_uri": "https://localhost:8080/"
        },
        "id": "ES6DcmqezVED",
        "outputId": "0add6e41-9dd0-44f6-f31d-5039b1a30783"
      },
      "execution_count": 51,
      "outputs": [
        {
          "output_type": "stream",
          "name": "stdout",
          "text": [
            "0.8913182713079241\n",
            "0.6922687978091351\n"
          ]
        }
      ]
    },
    {
      "cell_type": "code",
      "source": [
        "# List of values to try for max_depth:\n",
        "max_depth_range = list(range(2, 36))\n",
        "#will try every value between 2 and 36\n",
        "\n",
        "#List to store the score for each value of max_depth:\n",
        "r2= []\n",
        "for depth in max_depth_range:\n",
        "    dec_tree = DecisionTreeRegressor(max_depth= depth,\n",
        "                                   random_state=42)\n",
        "    dec_tree.fit(X_train, y_train)\n",
        "    score = dec_tree.score(X_test, y_test)\n",
        "    r2.append(score)"
      ],
      "metadata": {
        "id": "HD2lu9uhsoCo"
      },
      "execution_count": 55,
      "outputs": []
    },
    {
      "cell_type": "code",
      "source": [
        "import matplotlib.pyplot as plt\n",
        "\n",
        "plt.plot(max_depth_range, r2)\n",
        "plt.xlabel('Max Depth')\n",
        "plt.ylabel('R2')\n",
        "\n",
        "#I wanted to create a visualization taken from Lesson on Regression Trees in Python \n",
        "#to have a better understanding \n",
        "#On what would be the best 'max_depth' for my decission tree."
      ],
      "metadata": {
        "colab": {
          "base_uri": "https://localhost:8080/",
          "height": 296
        },
        "id": "9Jevlmcmzqrz",
        "outputId": "e512704d-2398-4e46-aa9d-dc763a033e07"
      },
      "execution_count": 58,
      "outputs": [
        {
          "output_type": "execute_result",
          "data": {
            "text/plain": [
              "Text(0, 0.5, 'R2')"
            ]
          },
          "metadata": {},
          "execution_count": 58
        },
        {
          "output_type": "display_data",
          "data": {
            "image/png": "[encoded data removed]",
            "text/plain": [
              "<Figure size 432x288 with 1 Axes>"
            ]
          },
          "metadata": {
            "needs_background": "light"
          }
        }
      ]
    },
    {
      "cell_type": "code",
      "source": [
        "#As we can see, the best max_depth would be around 5 or 6."
      ],
      "metadata": {
        "id": "LbqNfE5o0gE1"
      },
      "execution_count": null,
      "outputs": []
    },
    {
      "cell_type": "markdown",
      "source": [
        "4) What is the r2 of your final model on the training set and on the test set?"
      ],
      "metadata": {
        "id": "FxHNd7Vhsob1"
      }
    },
    {
      "cell_type": "code",
      "source": [
        "#Decision Tree with max_depth 6:\n",
        "\n",
        "dec_tree_3 = DecisionTreeRegressor(max_depth= 6, random_state=42)\n",
        "dec_tree_3.fit(X_train, y_train)\n",
        "train_3_score = dec_tree_3.score(X_train, y_train)\n",
        "test_3_score = dec_tree_3.score(X_test, y_test)\n",
        "print(train_3_score)\n",
        "print(test_3_score)"
      ],
      "metadata": {
        "id": "UY3MGA2Asqmu",
        "colab": {
          "base_uri": "https://localhost:8080/"
        },
        "outputId": "1e0272f8-5c9a-46eb-c467-c3c506ab7f51"
      },
      "execution_count": 59,
      "outputs": [
        {
          "output_type": "stream",
          "name": "stdout",
          "text": [
            "0.9214827076541541\n",
            "0.7200322619567403\n"
          ]
        }
      ]
    },
    {
      "cell_type": "code",
      "source": [
        ""
      ],
      "metadata": {
        "id": "0Wy7zgok01cu"
      },
      "execution_count": null,
      "outputs": []
    }
  ]
}